{
  "nbformat": 4,
  "nbformat_minor": 0,
  "metadata": {
    "colab": {
      "name": "Untitled2.ipynb",
      "provenance": [],
      "authorship_tag": "ABX9TyOGmhBrO59K7rO/DOx/gcYZ",
      "include_colab_link": true
    },
    "kernelspec": {
      "name": "python3",
      "display_name": "Python 3"
    }
  },
  "cells": [
    {
      "cell_type": "markdown",
      "metadata": {
        "id": "view-in-github",
        "colab_type": "text"
      },
      "source": [
        "<a href=\"https://colab.research.google.com/github/richardstanleyufop/lista1/blob/main/Untitled2.ipynb\" target=\"_parent\"><img src=\"https://colab.research.google.com/assets/colab-badge.svg\" alt=\"Open In Colab\"/></a>"
      ]
    },
    {
      "cell_type": "code",
      "metadata": {
        "colab": {
          "base_uri": "https://localhost:8080/"
        },
        "id": "bnc_sRp9muIU",
        "outputId": "781ee539-5535-49c2-a842-7f95b4649939"
      },
      "source": [
        "!pip install mip\r\n",
        "\r\n",
        "from mip import Model, xsum, INTEGER,CONTINUOUS, MAXIMIZE, MINIMIZE\r\n",
        "\r\n",
        "numeroVariaveis=2\r\n",
        "coeficienteFuncaoObjetivo=[15,40]\r\n",
        "coeficienteRestricoes=[[1,4],[1,-4]]\r\n",
        "alvoRestricoes=[4080,0]\r\n",
        "modelo = Model('Aço',sense=MAXIMIZE)\r\n",
        "\r\n",
        "x=[modelo.add_var(name='x{}'.format(int(i)),var_type=INTEGER,lb=0) for i in range(numeroVariaveis)]\r\n",
        "modelo.objective=xsum(coeficienteFuncaoObjetivo[i]*x[i] for i in range(numeroVariaveis))\r\n",
        "\r\n",
        "for i in range(len(alvoRestricoes)):\r\n",
        "  modelo += xsum(coeficienteRestricoes[i][j]*x[j] for j in range(numeroVariaveis)) <= alvoRestricoes[i]\r\n",
        "\r\n",
        "modelo.optimize()\r\n",
        "\r\n",
        "print('solução otima: {}'.format([x[i].x for i in range(numeroVariaveis)]))\r\n"
      ],
      "execution_count": 5,
      "outputs": [
        {
          "output_type": "stream",
          "text": [
            "Requirement already satisfied: mip in /usr/local/lib/python3.6/dist-packages (1.13.0)\n",
            "Requirement already satisfied: cffi in /usr/local/lib/python3.6/dist-packages (from mip) (1.14.4)\n",
            "Requirement already satisfied: pycparser in /usr/local/lib/python3.6/dist-packages (from cffi->mip) (2.20)\n",
            "solução otima: [2040.0, 510.0]\n"
          ],
          "name": "stdout"
        }
      ]
    }
  ]
}