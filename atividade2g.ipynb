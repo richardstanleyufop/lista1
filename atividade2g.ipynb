{
  "nbformat": 4,
  "nbformat_minor": 0,
  "metadata": {
    "colab": {
      "name": "Untitled12.ipynb",
      "provenance": [],
      "authorship_tag": "ABX9TyPraSxK2xwp+3wuxeSnshNg",
      "include_colab_link": true
    },
    "kernelspec": {
      "name": "python3",
      "display_name": "Python 3"
    }
  },
  "cells": [
    {
      "cell_type": "markdown",
      "metadata": {
        "id": "view-in-github",
        "colab_type": "text"
      },
      "source": [
        "<a href=\"https://colab.research.google.com/github/richardstanleyufop/lista1/blob/main/atividade2g.ipynb\" target=\"_parent\"><img src=\"https://colab.research.google.com/assets/colab-badge.svg\" alt=\"Open In Colab\"/></a>"
      ]
    },
    {
      "cell_type": "code",
      "metadata": {
        "colab": {
          "base_uri": "https://localhost:8080/"
        },
        "id": "9dhEafXQwplW",
        "outputId": "0ae89987-71eb-4cd6-f9cd-e018645f6552"
      },
      "source": [
        "!pip install mip\r\n",
        "\r\n",
        "from mip import Model, xsum, INTEGER,CONTINUOUS, MAXIMIZE, MINIMIZE\r\n",
        "modelo = Model('depositos',sense=MAXIMIZE)\r\n",
        "x=[modelo.add_var(lb=0)for i in range (2)]\r\n",
        "modelo.objective=x[0]\r\n",
        "modelo+=40*x[1]+80*(1-x[1])>=x[0]\r\n",
        "modelo+=80*x[1]+20*(1-x[1])>=x[0]\r\n",
        "modelo+=x[1]<=1\r\n",
        "modelo.optimize()\r\n",
        "print('{}'.format ([x[0].x]))"
      ],
      "execution_count": 5,
      "outputs": [
        {
          "output_type": "stream",
          "text": [
            "Requirement already satisfied: mip in /usr/local/lib/python3.6/dist-packages (1.13.0)\n",
            "Requirement already satisfied: cffi in /usr/local/lib/python3.6/dist-packages (from mip) (1.14.4)\n",
            "Requirement already satisfied: pycparser in /usr/local/lib/python3.6/dist-packages (from cffi->mip) (2.20)\n",
            "[56.000000000000014]\n"
          ],
          "name": "stdout"
        }
      ]
    }
  ]
}