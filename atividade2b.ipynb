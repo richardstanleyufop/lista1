{
  "nbformat": 4,
  "nbformat_minor": 0,
  "metadata": {
    "colab": {
      "name": "Untitled4.ipynb",
      "provenance": [],
      "authorship_tag": "ABX9TyPTLWLBgz4iM742bKo3S1z5",
      "include_colab_link": true
    },
    "kernelspec": {
      "name": "python3",
      "display_name": "Python 3"
    }
  },
  "cells": [
    {
      "cell_type": "markdown",
      "metadata": {
        "id": "view-in-github",
        "colab_type": "text"
      },
      "source": [
        "<a href=\"https://colab.research.google.com/github/richardstanleyufop/lista1/blob/main/atividade2b.ipynb\" target=\"_parent\"><img src=\"https://colab.research.google.com/assets/colab-badge.svg\" alt=\"Open In Colab\"/></a>"
      ]
    },
    {
      "cell_type": "code",
      "metadata": {
        "colab": {
          "base_uri": "https://localhost:8080/"
        },
        "id": "LKNRiqzao4Vs",
        "outputId": "494c280e-0c02-4e45-fd70-dd82d0fc54cb"
      },
      "source": [
        "!pip install mip\r\n",
        "\r\n",
        "from mip import Model, xsum, INTEGER,CONTINUOUS, MAXIMIZE, MINIMIZE\r\n",
        "\r\n",
        "numeroVariaveis=3\r\n",
        "coeficienteFuncaoObjetivo=[50,40,60]\r\n",
        "coeficienteRestricoes=[[1,1,1],[-1,-1,-1],[-1,0,0],[-10,-5,-10]]\r\n",
        "alvoRestricoes=[15000,-12000,5000,-100000]\r\n",
        "modelo = Model('Fertilizante',sense=MINIMIZE)\r\n",
        "\r\n",
        "x=[modelo.add_var(name='x{}'.format(int(i)),var_type=INTEGER,lb=0) for i in range(numeroVariaveis)]\r\n",
        "\r\n",
        "modelo.objective=xsum(coeficienteFuncaoObjetivo[i]*x[i] for i in range(numeroVariaveis))\r\n",
        "\r\n",
        "for i in range(len(alvoRestricoes)):\r\n",
        "  modelo += xsum(coeficienteRestricoes[i][j]*x[j] for j in range(numeroVariaveis)) <= alvoRestricoes[i]\r\n",
        "\r\n",
        "modelo.optimize()\r\n",
        "\r\n",
        "print('solução otima: {}'.format([x[i].x for i in range(numeroVariaveis)]))\r\n"
      ],
      "execution_count": 1,
      "outputs": [
        {
          "output_type": "stream",
          "text": [
            "Collecting mip\n",
            "\u001b[?25l  Downloading https://files.pythonhosted.org/packages/e5/7c/615a417b8b74dde4c3573f09c79612e3e0ed8c9b9488daf67e86cde350d2/mip-1.13.0-py3-none-any.whl (48.0MB)\n",
            "\u001b[K     |████████████████████████████████| 48.0MB 93kB/s \n",
            "\u001b[?25hRequirement already satisfied: cffi in /usr/local/lib/python3.6/dist-packages (from mip) (1.14.4)\n",
            "Requirement already satisfied: pycparser in /usr/local/lib/python3.6/dist-packages (from cffi->mip) (2.20)\n",
            "Installing collected packages: mip\n",
            "Successfully installed mip-1.13.0\n",
            "solução otima: [8000.0, 4000.0, 0.0]\n"
          ],
          "name": "stdout"
        }
      ]
    }
  ]
}