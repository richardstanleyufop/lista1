{
  "nbformat": 4,
  "nbformat_minor": 0,
  "metadata": {
    "colab": {
      "name": "Untitled11.ipynb",
      "provenance": [],
      "authorship_tag": "ABX9TyMGGVkSFuTwJ/4JOctieuAe",
      "include_colab_link": true
    },
    "kernelspec": {
      "name": "python3",
      "display_name": "Python 3"
    }
  },
  "cells": [
    {
      "cell_type": "markdown",
      "metadata": {
        "id": "view-in-github",
        "colab_type": "text"
      },
      "source": [
        "<a href=\"https://colab.research.google.com/github/richardstanleyufop/lista1/blob/main/atividade2f.ipynb\" target=\"_parent\"><img src=\"https://colab.research.google.com/assets/colab-badge.svg\" alt=\"Open In Colab\"/></a>"
      ]
    },
    {
      "cell_type": "code",
      "metadata": {
        "colab": {
          "base_uri": "https://localhost:8080/"
        },
        "id": "KnHUFzaWePv6",
        "outputId": "f252a2af-f49a-4c39-bc77-acaeccc55a25"
      },
      "source": [
        "!pip install mip\r\n",
        "\r\n",
        "from mip import Model, xsum, INTEGER,CONTINUOUS, MAXIMIZE, MINIMIZE\r\n",
        "\r\n",
        "model = Model(\"fazendas\", MAXIMIZE)\r\n",
        "\r\n",
        "# criando variáveis\r\n",
        "x11 = model.add_var(lb=0)\r\n",
        "x12 = model.add_var(lb=0)\r\n",
        "x13 = model.add_var(lb=0)\r\n",
        "x21 = model.add_var(lb=0)\r\n",
        "x22 = model.add_var(lb=0)\r\n",
        "x23 = model.add_var(lb=0)\r\n",
        "x31 = model.add_var(lb=0)\r\n",
        "x32 = model.add_var(lb=0)\r\n",
        "x33 = model.add_var(lb=0)\r\n",
        "\r\n",
        "\r\n",
        "# criando a função objetivo\r\n",
        "model += 5000*x11+5000*x12+5000*x13+4000*x21+4000*x22+4000*x23+1800*x31+1800*x32+1800*x33\r\n",
        "\r\n",
        "# adicionando as restrições\r\n",
        "model +=x11+x12+x13<=660\r\n",
        "model +=x21+x22+x23<=880\r\n",
        "model +=x31+x32+x33<=400\r\n",
        "\r\n",
        "model +=5.5*x11+4*x21+3.5*x31<=1800\r\n",
        "model +=5.5*x12+4*x22+3.5*x33<=2200\r\n",
        "model +=5.5*x13+4*x23+3.5*x33<=950\r\n",
        "\r\n",
        "model +=x11+x21+x31<=400\r\n",
        "model +=x12+x22+x32<=650\r\n",
        "model +=x13+x23+x33<=350\r\n",
        "\r\n",
        "a=(x11+x21+x31)/400\r\n",
        "b=(x12+x22+x32)/650\r\n",
        "c=(x13+x23+x33)/350\r\n",
        "model+=a==b==c\r\n",
        "\r\n",
        "\r\n",
        "# resolvendo o modelo\r\n",
        "model.optimize()\r\n",
        "\r\n",
        "# imprimindo a solução\r\n",
        "print(\"x11 = {x11.x}, x12 = {x12.x},x13 = {x13.x}, x21 = {x21.x},x22 = {x22.x}, x23 = {x23.x},x31 = {x31.x}, x32 = {x32.x},x33 = {x33.x}\".format(**locals()))"
      ],
      "execution_count": 13,
      "outputs": [
        {
          "output_type": "stream",
          "text": [
            "Requirement already satisfied: mip in /usr/local/lib/python3.6/dist-packages (1.13.0)\n",
            "Requirement already satisfied: cffi in /usr/local/lib/python3.6/dist-packages (from mip) (1.14.4)\n",
            "Requirement already satisfied: pycparser in /usr/local/lib/python3.6/dist-packages (from cffi->mip) (2.20)\n",
            "x11 = 133.33333333333337, x12 = 400.0,x13 = 0.0, x21 = 266.66666666666663,x22 = 0.0, x23 = 237.5,x31 = 0.0, x32 = 41.07142857142857,x33 = 0.0\n"
          ],
          "name": "stdout"
        }
      ]
    }
  ]
}