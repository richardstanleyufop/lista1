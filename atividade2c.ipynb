{
  "nbformat": 4,
  "nbformat_minor": 0,
  "metadata": {
    "colab": {
      "name": "Untitled10.ipynb",
      "provenance": [],
      "authorship_tag": "ABX9TyPFP5DAiwPii6htv05UvZiS",
      "include_colab_link": true
    },
    "kernelspec": {
      "name": "python3",
      "display_name": "Python 3"
    }
  },
  "cells": [
    {
      "cell_type": "markdown",
      "metadata": {
        "id": "view-in-github",
        "colab_type": "text"
      },
      "source": [
        "<a href=\"https://colab.research.google.com/github/richardstanleyufop/lista1/blob/main/atividade2c.ipynb\" target=\"_parent\"><img src=\"https://colab.research.google.com/assets/colab-badge.svg\" alt=\"Open In Colab\"/></a>"
      ]
    },
    {
      "cell_type": "code",
      "metadata": {
        "colab": {
          "base_uri": "https://localhost:8080/"
        },
        "id": "R8SImlfzbb0F",
        "outputId": "4cc105e6-1be3-49ae-9069-af8e2cb3357c"
      },
      "source": [
        "!pip install mip\r\n",
        "\r\n",
        "from mip import Model, xsum, INTEGER,CONTINUOUS, MAXIMIZE, MINIMIZE\r\n",
        "\r\n",
        "numeroVariaveis=8\r\n",
        "coeficienteFuncaoObjetivo=[40,50,55,9999,9999,60,30,50]\r\n",
        "coeficienteRestricoes=[[1,1,1,1,0,0,0,0],[0,0,0,0,1,1,1,1],[-1,-1,-1,-1,0,0,0,0],[0,0,0,0,-1,-1,-1,-1],[1,0,0,0,1,0,0,0],[0,1,0,0,0,1,0,0],[0,0,0,1,0,0,1,0],[0,0,0,1,0,0,0,1]]\r\n",
        "alvoRestricoes=[6000,9000,-6000,-9000,2500,4500,5500,3500]\r\n",
        "modelo = Model('depositos',sense=MINIMIZE)\r\n",
        "\r\n",
        "x=[modelo.add_var(name='x{}'.format(int(i)),var_type=INTEGER,lb=0) for i in range(numeroVariaveis)]\r\n",
        "\r\n",
        "modelo.objective=xsum(coeficienteFuncaoObjetivo[i]*x[i] for i in range(numeroVariaveis))\r\n",
        "\r\n",
        "for i in range(len(alvoRestricoes)):\r\n",
        "  modelo += xsum(coeficienteRestricoes[i][j]*x[j] for j in range(numeroVariaveis)) <= alvoRestricoes[i]\r\n",
        "\r\n",
        "modelo.optimize()\r\n",
        "\r\n",
        "print('solução otima: {}'.format([x[i].x for i in range(numeroVariaveis)]))\r\n"
      ],
      "execution_count": 3,
      "outputs": [
        {
          "output_type": "stream",
          "text": [
            "Requirement already satisfied: mip in /usr/local/lib/python3.6/dist-packages (1.13.0)\n",
            "Requirement already satisfied: cffi in /usr/local/lib/python3.6/dist-packages (from mip) (1.14.4)\n",
            "Requirement already satisfied: pycparser in /usr/local/lib/python3.6/dist-packages (from cffi->mip) (2.20)\n",
            "solução otima: [2500.0, 3500.0, 0.0, 0.0, 0.0, 0.0, 5500.0, 3500.0]\n"
          ],
          "name": "stdout"
        }
      ]
    }
  ]
}